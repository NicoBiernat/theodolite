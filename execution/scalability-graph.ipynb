{
 "nbformat": 4,
 "nbformat_minor": 2,
 "metadata": {
  "language_info": {
   "name": "python",
   "codemirror_mode": {
    "name": "ipython",
    "version": 3
   },
   "version": "3.7.0-final"
  },
  "orig_nbformat": 2,
  "file_extension": ".py",
  "mimetype": "text/x-python",
  "name": "python",
  "npconvert_exporter": "python",
  "pygments_lexer": "ipython3",
  "version": 3,
  "kernelspec": {
   "name": "python37064bitvenvvenv469ea2e0a7854dc7b367eee45386afee",
   "display_name": "Python 3.7.0 64-bit ('.venv': venv)"
  }
 },
 "cells": [
  {
   "cell_type": "code",
   "execution_count": null,
   "metadata": {},
   "outputs": [],
   "source": [
    "print(\"hello\")"
   ]
  },
  {
   "cell_type": "code",
   "execution_count": null,
   "metadata": {},
   "outputs": [],
   "source": [
    "import os\n",
    "import requests\n",
    "from datetime import datetime, timedelta, timezone\n",
    "import pandas as pd\n",
    "from sklearn.linear_model import LinearRegression\n",
    "import matplotlib.pyplot as plt"
   ]
  },
  {
   "cell_type": "code",
   "execution_count": null,
   "metadata": {},
   "outputs": [],
   "source": [
    "os.getcwd()"
   ]
  },
  {
   "cell_type": "code",
   "execution_count": null,
   "metadata": {},
   "outputs": [],
   "source": [
    "exp_id = 35\n",
    "warmup_sec = 60\n",
    "threshold = 2000 #slope\n",
    ""
   ]
  },
  {
   "cell_type": "code",
   "execution_count": null,
   "metadata": {
    "tags": [
     "outputPrepend",
     "outputPrepend"
    ]
   },
   "outputs": [],
   "source": [
    "#exp_id = 35\n",
    "\n",
    "#os.chdir(\"./results-new\")\n",
    "\n",
    "raw_runs = []\n",
    "\n",
    "filenames = [filename for filename in os.listdir('.') if filename.startswith(f\"exp{exp_id}\") and filename.endswith(\".csv\")]\n",
    "for filename in filenames:\n",
    "    #print(filename)\n",
    "    run_params = filename[:-4].split(\"_\")\n",
    "    dim_value = run_params[2]\n",
    "    instances = run_params[3]\n",
    "\n",
    "    df = pd.read_csv(filename)\n",
    "    input = df.loc[df['topic'] == \"input\"]\n",
    "    #print(input)\n",
    "    input['sec_start'] = input.loc[0:, 'timestamp'] - input.iloc[0]['timestamp']\n",
    "    #print(input)\n",
    "    #print(input.iloc[0, 'timestamp'])\n",
    "    regress = input.loc[input['sec_start'] >= warmup_sec] # Warm-Up\n",
    "    #regress = input\n",
    "\n",
    "    #input.plot(kind='line',x='timestamp',y='value',color='red')\n",
    "    #plt.show()\n",
    "\n",
    "    X = regress.iloc[:, 2].values.reshape(-1, 1)  # values converts it into a numpy array\n",
    "    Y = regress.iloc[:, 3].values.reshape(-1, 1)  # -1 means that calculate the dimension of rows, but have 1 column\n",
    "    linear_regressor = LinearRegression()  # create object for the class\n",
    "    linear_regressor.fit(X, Y)  # perform linear regression\n",
    "    Y_pred = linear_regressor.predict(X)  # make predictions\n",
    "\n",
    "    trend_slope = linear_regressor.coef_[0][0]\n",
    "    #print(linear_regressor.coef_)\n",
    "\n",
    "    row = {'dim_value': int(dim_value), 'instances': int(instances), 'trend_slope': trend_slope}\n",
    "    #print(row)\n",
    "    raw_runs.append(row)\n",
    "\n",
    "runs = pd.DataFrame(raw_runs)\n",
    ""
   ]
  },
  {
   "cell_type": "code",
   "execution_count": null,
   "metadata": {},
   "outputs": [],
   "source": [
    "runs.head()"
   ]
  },
  {
   "cell_type": "code",
   "execution_count": null,
   "metadata": {},
   "outputs": [],
   "source": [
    "#threshold = 1000\n",
    "\n",
    "# Set to true if the trend line has a slope less than \n",
    "runs[\"suitable\"] =  runs.apply(lambda row: row['trend_slope'] < threshold, axis=1)\n",
    "\n",
    "runs.columns = runs.columns.str.strip()\n",
    "runs.sort_values(by=[\"dim_value\", \"instances\"])"
   ]
  },
  {
   "cell_type": "code",
   "execution_count": null,
   "metadata": {},
   "outputs": [],
   "source": [
    "filtered = runs[runs.apply(lambda x: x['suitable'], axis=1)]\n",
    "\n",
    "grouped = filtered.groupby(['dim_value'])['instances'].min()\n",
    "min_suitable_instances = grouped.to_frame().reset_index()\n",
    "\n",
    "min_suitable_instances"
   ]
  },
  {
   "cell_type": "code",
   "execution_count": null,
   "metadata": {},
   "outputs": [],
   "source": [
    "min_suitable_instances.plot(kind='line',x='dim_value',y='instances')\n",
    "\n",
    "plt.show()"
   ]
  },
  {
   "cell_type": "code",
   "execution_count": null,
   "metadata": {},
   "outputs": [],
   "source": []
  }
 ]
}