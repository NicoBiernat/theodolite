{
 "cells": [
  {
   "cell_type": "code",
   "execution_count": 11,
   "metadata": {},
   "outputs": [],
   "source": [
    "import os\n",
    "import pandas as pd\n",
    "from functools import reduce\n",
    "import matplotlib.pyplot as plt"
   ]
  },
  {
   "cell_type": "code",
   "execution_count": 179,
   "metadata": {},
   "outputs": [
    {
     "data": {
      "text/plain": [
       "'/home/nico/git/theodolite/analysis'"
      ]
     },
     "execution_count": 179,
     "metadata": {},
     "output_type": "execute_result"
    }
   ],
   "source": [
    "directory = '.'#'<path-to>/results-inst'\n",
    "\n",
    "experiments = {\n",
    "    # all limits to 2 cpu, 4G ram\n",
    "    \n",
    "    #'Scalability Graph': 'exp0', # baseline, 1 Taskslot, 100ms checkpointing\n",
    "    #'Flink UC1 (2 Taskslots)': 'exp71',\n",
    "    #'Flink UC1 (10s checkpointing)': 'exp89',\n",
    "    \n",
    "    'Flink UC2 (100ms checkpointing)': 'exp79',\n",
    "    #'Flink UC2 (2 Taskslots)': 'exp85',\n",
    "    'Flink UC2 (10s checkpointing)': 'exp86',\n",
    "    #'Flink UC2 (RocksDB)': 'exp87',\n",
    "    \n",
    "    #'Flink UC3 (in-memory)': 'exp11', # baseline, 1 Taskslot, 100ms checkpointing\n",
    "    #'Flink UC3 (2 Taskslots)': 'exp65',\n",
    "    #'Flink UC3 (10s checkpointing)':'exp72',\n",
    "    #'Flink UC3 (RocksDB)':'exp88'\n",
    "    \n",
    "    #'Flink UC4 (in-memory)': 'exp23', # baseline, 1 Taskslot, 100ms checkpointing\n",
    "    #'Flink UC4 (2 Taskslots)': 'exp66',\n",
    "    #'Flink UC4 (10s checkpointing)':'exp73',\n",
    "    #'Flink UC4 (RocksDB)':'exp76',\n",
    "}\n",
    "os.getcwd()"
   ]
  },
  {
   "cell_type": "code",
   "execution_count": 180,
   "metadata": {},
   "outputs": [
    {
     "data": {
      "text/html": [
       "<div>\n",
       "<style scoped>\n",
       "    .dataframe tbody tr th:only-of-type {\n",
       "        vertical-align: middle;\n",
       "    }\n",
       "\n",
       "    .dataframe tbody tr th {\n",
       "        vertical-align: top;\n",
       "    }\n",
       "\n",
       "    .dataframe thead th {\n",
       "        text-align: right;\n",
       "    }\n",
       "</style>\n",
       "<table border=\"1\" class=\"dataframe\">\n",
       "  <thead>\n",
       "    <tr style=\"text-align: right;\">\n",
       "      <th></th>\n",
       "      <th>Flink UC2 (100ms checkpointing)</th>\n",
       "      <th>Flink UC2 (10s checkpointing)</th>\n",
       "    </tr>\n",
       "    <tr>\n",
       "      <th>dim_value</th>\n",
       "      <th></th>\n",
       "      <th></th>\n",
       "    </tr>\n",
       "  </thead>\n",
       "  <tbody>\n",
       "    <tr>\n",
       "      <th>6</th>\n",
       "      <td>1</td>\n",
       "      <td>1</td>\n",
       "    </tr>\n",
       "    <tr>\n",
       "      <th>7</th>\n",
       "      <td>1</td>\n",
       "      <td>1</td>\n",
       "    </tr>\n",
       "    <tr>\n",
       "      <th>8</th>\n",
       "      <td>4</td>\n",
       "      <td>4</td>\n",
       "    </tr>\n",
       "  </tbody>\n",
       "</table>\n",
       "</div>"
      ],
      "text/plain": [
       "           Flink UC2 (100ms checkpointing)  Flink UC2 (10s checkpointing)\n",
       "dim_value                                                                \n",
       "6                                        1                              1\n",
       "7                                        1                              1\n",
       "8                                        4                              4"
      ]
     },
     "execution_count": 180,
     "metadata": {},
     "output_type": "execute_result"
    }
   ],
   "source": [
    "dataframes = [pd.read_csv(os.path.join(directory, f'{v}_min-suitable-instances.csv')).set_index('dim_value').rename(columns={\"instances\": k}) for k, v in experiments.items()]\n",
    "\n",
    "df = reduce(lambda df1,df2: df1.join(df2,how='outer'), dataframes)\n",
    "\n",
    "df"
   ]
  },
  {
   "cell_type": "code",
   "execution_count": 181,
   "metadata": {
    "scrolled": true
   },
   "outputs": [
    {
     "data": {
      "text/plain": [
       "<Figure size 432x288 with 0 Axes>"
      ]
     },
     "metadata": {},
     "output_type": "display_data"
    },
    {
     "data": {
      "image/png": "[encoded data removed]",
      "text/plain": [
       "<Figure size 432x288 with 1 Axes>"
      ]
     },
     "metadata": {},
     "output_type": "display_data"
    }
   ],
   "source": [
    "plt.style.use('ggplot')\n",
    "plt.rcParams['axes.facecolor']='w'\n",
    "plt.rcParams['axes.edgecolor']='555555'\n",
    "#plt.rcParams['ytick.color']='black'\n",
    "plt.rcParams['grid.color']='dddddd'\n",
    "plt.rcParams['axes.spines.top']='false'\n",
    "plt.rcParams['axes.spines.right']='false'\n",
    "plt.rcParams['legend.frameon']='true'\n",
    "plt.rcParams['legend.framealpha']='1'\n",
    "plt.rcParams['legend.edgecolor']='1'\n",
    "plt.rcParams['legend.borderpad']='1'\n",
    "\n",
    "\n",
    "\n",
    "\n",
    "\n",
    "plt.figure() \n",
    "ax = df.plot(kind='line', marker='o')\n",
    "#ax = df.plot(kind='line',x='dim_value', legend=False, use_index=True)\n",
    "ax.set_ylabel('instances')\n",
    "ax.set_xlabel('nested groups')\n",
    "ax.set_ylim(ymin=0)\n",
    "#ax.set_xlim(xmin=0)\n",
    "plt.savefig('result-uc2-checkpointing.pdf', bbox_inches='tight')"
   ]
  },
  {
   "cell_type": "code",
   "execution_count": null,
   "metadata": {},
   "outputs": [],
   "source": []
  }
 ],
 "metadata": {
  "file_extension": ".py",
  "kernelspec": {
   "display_name": "Python 3",
   "language": "python",
   "name": "python3"
  },
  "language_info": {
   "codemirror_mode": {
    "name": "ipython",
    "version": 3
   },
   "file_extension": ".py",
   "mimetype": "text/x-python",
   "name": "python",
   "nbconvert_exporter": "python",
   "pygments_lexer": "ipython3",
   "version": "3.8.5"
  },
  "mimetype": "text/x-python",
  "name": "python",
  "npconvert_exporter": "python",
  "pygments_lexer": "ipython3",
  "version": 3
 },
 "nbformat": 4,
 "nbformat_minor": 2
}
